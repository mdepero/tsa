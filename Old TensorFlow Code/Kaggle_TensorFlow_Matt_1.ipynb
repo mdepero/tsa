{
 "cells": [
  {
   "cell_type": "code",
   "execution_count": 1,
   "metadata": {},
   "outputs": [
    {
     "name": "stdout",
     "output_type": "stream",
     "text": [
      "Populating the interactive namespace from numpy and matplotlib\n"
     ]
    }
   ],
   "source": [
    "%pylab inline"
   ]
  },
  {
   "cell_type": "code",
   "execution_count": 2,
   "metadata": {
    "collapsed": true
   },
   "outputs": [],
   "source": [
    "import pandas\n",
    "import numpy as np\n",
    "import tensorflow as tf"
   ]
  },
  {
   "cell_type": "code",
   "execution_count": 21,
   "metadata": {
    "collapsed": true
   },
   "outputs": [],
   "source": [
    "# Read in training data, popping off what we want to predict\n",
    "train_data = pandas.read_csv('train.csv')\n",
    "test_data = pandas.read_csv('test.csv')\n",
    "\n",
    "test_pIds = test_data.get('PassengerId')\n",
    "\n",
    "y_data = train_data.pop('Survived')\n",
    "y_train = np.zeros((len(y_data), 2)) # two categories, survived or not survived\n",
    "y_train[np.arange(len(y_data)), y_data] = 1\n",
    "\n",
    "# === Clean Data ===\n",
    "train_data.drop(['PassengerId', 'Name', 'Ticket', 'Cabin'], axis=1, inplace=True)\n",
    "medAge = train_data.Age.median()\n",
    "medFare = train_data.Fare.median()\n",
    "train_data['Age'].fillna(medAge, inplace=True)\n",
    "train_data['Fare'].fillna(medFare, inplace=True)\n",
    "train_data['Sex'].replace('male', 0, inplace=True)\n",
    "train_data['Sex'].replace('female', 1, inplace=True)\n",
    "train_data['Embarked'].replace('S', 0, inplace=True)\n",
    "train_data['Embarked'].replace('C', 1, inplace=True)\n",
    "train_data['Embarked'].replace('Q', 2, inplace=True)\n",
    "X_train = train_data.values\n",
    "\n",
    "# Remove anywhere a non number exists (Embarked)\n",
    "y_train = y_train[~np.isnan(X_train).any(axis=1)]\n",
    "X_train = X_train[~np.isnan(X_train).any(axis=1)]\n",
    "\n",
    "test_data.drop(['PassengerId', 'Name', 'Ticket', 'Cabin'], axis=1, inplace=True)\n",
    "test_data['Age'].fillna(medAge, inplace=True)\n",
    "test_data['Fare'].fillna(medFare, inplace=True)\n",
    "test_data['Sex'].replace('male', 0, inplace=True)\n",
    "test_data['Sex'].replace('female', 1, inplace=True)\n",
    "test_data['Embarked'].replace('S', 0, inplace=True)\n",
    "test_data['Embarked'].replace('C', 1, inplace=True)\n",
    "test_data['Embarked'].replace('Q', 1, inplace=True)\n",
    "X_test = test_data.values\n",
    "\n",
    "X_test = X_test[~np.isnan(X_test).any(axis=1)]\n",
    "\n"
   ]
  },
  {
   "cell_type": "code",
   "execution_count": 4,
   "metadata": {
    "collapsed": true
   },
   "outputs": [],
   "source": [
    "\n",
    "num_inputs = len(X_train[0])\n",
    "num_outputs = len(y_train[0]); # survived or not survived\n",
    "\n",
    "# Input\n",
    "\n",
    "x = tf.placeholder(tf.float32, (None, num_inputs), name='x')\n",
    "y = tf.placeholder(tf.float32, (None, num_outputs), name='y')\n",
    "ec = tf.argmax(y, 1, name='ec')\n",
    "\n",
    "# Output\n",
    "\n",
    "b = tf.Variable(tf.zeros(num_outputs), name='b')\n",
    "W = tf.Variable(tf.truncated_normal([num_inputs, num_outputs]), name='W')\n",
    "a = tf.add(tf.matmul(x, W), b, name='a')\n",
    "z = tf.nn.softmax(a, name='z')\n",
    "pc = tf.argmax(z, 1, name='pc')  # [p]redicted [c]lass label\n",
    "\n",
    "# Loss\n",
    "cross_entropy = tf.nn.softmax_cross_entropy_with_logits(labels=y, logits=a)\n",
    "loss = tf.reduce_mean(cross_entropy, name='loss')\n",
    "\n",
    "# Solver\n",
    "solver = tf.train.AdamOptimizer()\n",
    "optimize = solver.minimize(loss)\n",
    "\n",
    "# Accuracy\n",
    "correct = tf.equal(ec, pc, name='correct')  # for each sample, did we get it right? \n",
    "accuracy = tf.reduce_mean(tf.cast(correct, tf.float32), name='acc')"
   ]
  },
  {
   "cell_type": "code",
   "execution_count": 5,
   "metadata": {
    "collapsed": true
   },
   "outputs": [],
   "source": [
    "sess = tf.InteractiveSession()\n",
    "sess.run(tf.global_variables_initializer())"
   ]
  },
  {
   "cell_type": "code",
   "execution_count": 11,
   "metadata": {},
   "outputs": [
    {
     "name": "stdout",
     "output_type": "stream",
     "text": [
      "Accuracy: 0.799775\n",
      "Random chance is around 0.5 (50%)\n"
     ]
    }
   ],
   "source": [
    "# Current Accuracy (before training)\n",
    "print (\"Accuracy:\", sess.run(accuracy, {x:X_train, y:y_train}))\n",
    "print (\"Random chance is around 0.5 (50%)\")"
   ]
  },
  {
   "cell_type": "code",
   "execution_count": 19,
   "metadata": {},
   "outputs": [
    {
     "name": "stdout",
     "output_type": "stream",
     "text": [
      "Epoch: 1000 cost= 0.441899657\n",
      "Epoch: 2000 cost= 0.441924125\n",
      "Epoch: 3000 cost= 0.441900223\n",
      "Epoch: 4000 cost= 0.441899836\n",
      "Epoch: 5000 cost= 0.441899776\n",
      "Epoch: 6000 cost= 0.441899657\n",
      "Epoch: 7000 cost= 0.441923201\n",
      "Epoch: 8000 cost= 0.441902936\n",
      "Epoch: 9000 cost= 0.441899687\n",
      "Epoch: 10000 cost= 0.441899776\n"
     ]
    }
   ],
   "source": [
    "# Training cycle\n",
    "training_epochs=10000\n",
    "display_epoch=1000\n",
    "\n",
    "# try:\n",
    "#     saver.restore(sess, './models/logreg.cpt')\n",
    "# except:\n",
    "#     print \"No model to restore\"\n",
    "\n",
    "for epoch in range(training_epochs):\n",
    "    avg_loss = 0.\n",
    "       \n",
    "    _, loss_ = sess.run([optimize, loss],\n",
    "                            {x: X_train, y: y_train})\n",
    "        \n",
    "    \n",
    "    # Display logs per epoch step\n",
    "    if (epoch+1) % display_epoch == 0:\n",
    "        print (\"Epoch:\", '%04d' % (epoch+1), \"cost=\", \"{:.9f}\".format(loss_))"
   ]
  },
  {
   "cell_type": "code",
   "execution_count": 22,
   "metadata": {
    "collapsed": true
   },
   "outputs": [],
   "source": [
    "pred_test = sess.run([pc], {x:X_test})[0]\n",
    "\n",
    "ret = pandas.DataFrame({'PassengerId':test_pIds, 'Survived':pred_test})\n",
    "ret.to_csv('kaggle_submission_tensorflow_1.csv', index=False)"
   ]
  },
  {
   "cell_type": "code",
   "execution_count": null,
   "metadata": {
    "collapsed": true
   },
   "outputs": [],
   "source": []
  }
 ],
 "metadata": {
  "kernelspec": {
   "display_name": "Python 3",
   "language": "python",
   "name": "python3"
  },
  "language_info": {
   "codemirror_mode": {
    "name": "ipython",
    "version": 3
   },
   "file_extension": ".py",
   "mimetype": "text/x-python",
   "name": "python",
   "nbconvert_exporter": "python",
   "pygments_lexer": "ipython3",
   "version": "3.6.1"
  }
 },
 "nbformat": 4,
 "nbformat_minor": 2
}
